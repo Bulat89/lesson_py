{
  "nbformat": 4,
  "nbformat_minor": 0,
  "metadata": {
    "colab": {
      "provenance": []
    },
    "kernelspec": {
      "name": "python3",
      "display_name": "Python 3"
    },
    "language_info": {
      "name": "python"
    }
  },
  "cells": [
    {
      "cell_type": "code",
      "execution_count": null,
      "metadata": {
        "colab": {
          "base_uri": "https://localhost:8080/"
        },
        "id": "3zKYNrdSaEIN",
        "outputId": "2af69a22-8e24-4e90-cfd3-6db37c9f6092"
      },
      "outputs": [
        {
          "output_type": "stream",
          "name": "stdout",
          "text": [
            "первое задание 206683.83635227982 \n",
            "Второе зазадние 4.0 \n"
          ]
        }
      ],
      "source": [
        "import pandas as pd\n",
        "\n",
        "df = pd.read_csv(\"/content/sample_data/california_housing_train.csv\") #  из googl colab\n",
        "# 1 задание\n",
        "x = df[df['population']<500]\n",
        "y = x.median_house_value.mean()\n",
        "print(f\"первое задание {y} \")\n",
        "\n",
        "# 2 задание\n",
        "b = df[df[\"population\"]==df.population.min()]\n",
        "print(f\"Второе зазадние {b['households'].loc[b.index[0]]} \" )\n"
      ]
    },
    {
      "cell_type": "code",
      "source": [],
      "metadata": {
        "colab": {
          "base_uri": "https://localhost:8080/"
        },
        "id": "C9PNqnP0a9a2",
        "outputId": "043c8ce7-eb45-4ddb-875c-9381e8ae6293"
      },
      "execution_count": null,
      "outputs": [
        {
          "output_type": "stream",
          "name": "stdout",
          "text": [
            "8232    4.0\n",
            "Name: households, dtype: float64\n"
          ]
        }
      ]
    },
    {
      "cell_type": "code",
      "source": [],
      "metadata": {
        "id": "WbJRMtwAdNZe"
      },
      "execution_count": null,
      "outputs": []
    }
  ]
}